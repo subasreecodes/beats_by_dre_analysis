{
  "nbformat": 4,
  "nbformat_minor": 0,
  "metadata": {
    "colab": {
      "provenance": []
    },
    "kernelspec": {
      "name": "python3",
      "display_name": "Python 3"
    },
    "language_info": {
      "name": "python"
    }
  },
  "cells": [
    {
      "cell_type": "code",
      "execution_count": null,
      "metadata": {
        "colab": {
          "base_uri": "https://localhost:8080/",
          "height": 649
        },
        "id": "wckvxHQu0Vu4",
        "outputId": "b95991c9-a7ba-416a-def6-ea2a0cf7cc9b"
      },
      "outputs": [
        {
          "output_type": "stream",
          "name": "stdout",
          "text": [
            "## 1More ComfoBuds Mini: Key Pain Points from Negative Reviews\n",
            "\n",
            "The 1More ComfoBuds Mini, despite their small size and comfort, face a number of recurring issues that frustrate users:\n",
            "\n",
            "**1. Quality Control Issues:**\n",
            "\n",
            "* **Earbud Malfunctions:** Many users report one or both earbuds losing noise-cancelling function, experiencing whooshing noises, or completely losing sound after a short period of use (weeks to months). This is a major concern, making the product feel unreliable and prompting frequent returns.\n",
            "* **Case Defects:** Some users encountered problems with the charging case not working properly, leading to inability to charge the earbuds.\n",
            "\n",
            "**2. Software and App Limitations:**\n",
            "\n",
            "* **Limited Customization:**  Users find the touch control options lacking, with minimal customization and no single-tap functionality. This leads to accidental presses and inconvenience.\n",
            "* **SoundID vs. Equalizer:** The SoundID system, while attempting personalized sound profiles, is often disliked by users, who prefer a traditional equalizer for greater control over the sound signature. \n",
            "* **App Stability Issues:** Frequent app crashes and connectivity problems plague users, making the overall experience frustrating. \n",
            "* **Missing Features:** Some users miss multipoint connectivity, a standard feature on many modern earbuds, despite the earbuds featuring Bluetooth 5.2.\n",
            "\n",
            "**3. Sound Quality and Noise Cancellation:**\n",
            "\n",
            "* **Lack of Volume:**  Some users find the maximum volume insufficient, especially for louder environments.\n",
            "* **Sound Profile:** While some users praise the sound quality, others find the stock tuning unsatisfactory and rely on the SoundID app to improve it. However, the SoundID system often doesn't deliver on its promise of customized audio.\n",
            "* **ANC Performance:**  While appreciated for the size, the ANC isn't considered top-tier compared to larger brands.\n",
            "\n",
            "**4. Fit and Comfort:**\n",
            "\n",
            "* **Ear Tip Issues:**  Users often find the included ear tips uncomfortable or inadequate for a proper seal, leading to sound leakage and ANC issues. They rely on aftermarket tips for better fit and comfort.\n",
            "* **Size Limitations:** Despite being marketed as small, some users with extremely small ears still find them uncomfortable or difficult to keep in place.\n",
            "\n",
            "**5. Other Concerns:**\n",
            "\n",
            "* **Battery Life:** Some users find the battery life lacking, especially for prolonged use.\n",
            "* **Call Quality:**  Users report issues with call clarity and frequent dropouts.\n",
            "* **Noisy Earbuds:**  Some users complain of a high-pitched squealing sound emanating from the earbuds, particularly when using ANC or transparency mode.\n",
            "\n",
            "\n",
            "While some users rave about the small size and comfort, the persistent issues with quality control, software limitations, and sound performance make these earbuds a risky purchase for many. 1More needs to address these key pain points to improve the user experience and create a truly compelling product in this competitive market. \n",
            "\n"
          ]
        }
      ],
      "source": [
        "import google.generativeai as genai\n",
        "\n",
        "import pandas as pd\n",
        "import google.generativeai as genai\n",
        "\n",
        "df = pd.read_csv('brand_reviews_dataset.csv')\n",
        "\n",
        "def analyze_reviews(negative_reviews, api_key):\n",
        "  genai.configure(api_key=api_key)\n",
        "\n",
        "  model = genai.GenerativeModel(\n",
        "      model_name = \"gemini-1.5-flash\",\n",
        "      generation_config={\n",
        "          \"temperature\": 1,\n",
        "          \"top_p\": 0.95,\n",
        "          \"top_k\": 64,\n",
        "          \"max_output_tokens\": 8192,\n",
        "          \"response_mime_type\": \"text/plain\",\n",
        "      },\n",
        "  )\n",
        "\n",
        "  chat_session = model.start_chat(history=[])\n",
        "  prompt = \"Analyze the following negative reviews and summarize the key pain points:\\\\n\\\\n\" + \"\\\\n\\\\n\".join(negative_reviews)\n",
        "  response = chat_session.send_message(prompt)\n",
        "\n",
        "  return response.text\n",
        "\n",
        "reviews = df['review'].head(100).tolist()\n",
        "api_key = \"your_API_key\"\n",
        "\n",
        "insights = analyze_reviews(reviews,api_key)\n",
        "print(insights)"
      ]
    },
    {
      "cell_type": "code",
      "source": [
        "def analyze_reviews(positive_reviews, api_key):\n",
        "  genai.configure(api_key=api_key)\n",
        "\n",
        "  model = genai.GenerativeModel(\n",
        "      model_name = \"gemini-1.5-flash\",\n",
        "      generation_config={\n",
        "          \"temperature\": 1,\n",
        "          \"top_p\": 0.95,\n",
        "          \"top_k\": 64,\n",
        "          \"max_output_tokens\": 8192,\n",
        "          \"response_mime_type\": \"text/plain\",\n",
        "      },\n",
        "  )\n",
        "\n",
        "  chat_session = model.start_chat(history=[])\n",
        "  prompt = \"Analyze the following positive reviews and outcome the main point for top 5 products and the reviews that makes the products stand out with a a suggestion for other brands to work on:\\\\n\\\\n\" + \"\\\\n\\\\n\".join(positive_reviews)\n",
        "  response = chat_session.send_message(prompt)\n",
        "\n",
        "  return response.text\n",
        "\n",
        "reviews = df['review'].head(100).tolist()\n",
        "api_key = \"your_API_key\"\n",
        "\n",
        "insights = analyze_reviews(reviews,api_key)\n",
        "print(insights)"
      ],
      "metadata": {
        "colab": {
          "base_uri": "https://localhost:8080/",
          "height": 496
        },
        "id": "i4kci1OF7tOj",
        "outputId": "7295c0b9-894a-4274-b9be-e079f0f62d51"
      },
      "execution_count": null,
      "outputs": [
        {
          "output_type": "stream",
          "name": "stdout",
          "text": [
            "## 1More ComfoBuds Mini: Review Analysis\n",
            "\n",
            "**Top 5 Products & Standout Features:**\n",
            "\n",
            "1. **1More ComfoBuds Mini (Overall)**:  These earbuds stand out for their **incredibly small size**, making them **comfortable for side sleeping and wearing under helmets**.  They also offer decent sound quality, good noise cancellation, and a decent battery life.\n",
            "2. **1More ComfoBuds Z:**  These earbuds are specifically praised for their **microscopic size**, making them **ideal for sleeping**. While sound quality is not their strongest point, their comfort makes them a standout choice for this purpose.\n",
            "3. **Sony WFC 500:**  While not specifically mentioned in the reviews, they are recommended as a **reliable alternative** to the ComfoBuds Mini due to **consistent quality control** from Sony.\n",
            "4. **AirPods Pro:**  While not as small as the ComfoBuds Mini, these earbuds are highly regarded for their **overall performance**, including **strong noise cancellation and good sound quality**.\n",
            "5. **Soundcore Life A2 NC:**  These earbuds stand out for their **excellent battery life**, **strong noise cancellation**, and **high-quality sound**.\n",
            "\n",
            "**Reviews that make these products stand out:**\n",
            "\n",
            "* **ComfoBuds Mini:**  Several reviews mention the **comfort for sleeping**, **small size**, and **good noise cancellation** as their main selling points.\n",
            "* **ComfoBuds Z:**  Multiple reviews specifically highlight the **extreme comfort for sleeping** and **tiny size**, even surpassing the Mini in this regard.\n",
            "* **Sony WFC 500:**  Reviewers recommend this product as a reliable and high-quality alternative to the ComfoBuds Mini, emphasizing the **consistent performance** of Sony products.\n",
            "* **AirPods Pro:**  Reviews highlight the **overall performance**, **noise cancellation**, and **good sound quality** of the AirPods Pro, showcasing their strength in various categories.\n",
            "* **Soundcore Life A2 NC:**  Reviewers point out the **long battery life**, **effective noise cancellation**, and **high-quality sound**, highlighting this product's strengths in these areas.\n",
            "\n",
            "**Suggestions for other brands to work on:**\n",
            "\n",
            "* **Earbud size and comfort:**  The 1More ComfoBuds Mini and Z demonstrate that **smaller earbuds can be very comfortable**, even for sleeping. Other brands should invest in developing smaller, more ergonomic earbuds that address the common complaint of ear discomfort.\n",
            "* **Quality control:**  The consistent quality control issues reported with 1More ComfoBuds Mini highlight the importance of **ensuring product reliability**. Brands should invest in better testing and manufacturing processes to ensure their products perform as expected.\n",
            "* **Software customization:**  Many reviewers express frustration with the limited software features of 1More earbuds, specifically the **lack of manual equalization**. Brands should prioritize offering more customizable features, including manual EQ controls and greater control over touch controls.\n",
            "* **Multi-device connectivity:**  A common complaint is the inability to connect to multiple devices simultaneously. Brands should implement **multi-device connectivity** to improve user experience and functionality. \n",
            "\n",
            "**Overall, the 1More ComfoBuds Mini and Z showcase the potential for small, comfortable earbuds with good features. By addressing the weaknesses highlighted in the reviews, other brands can create competitive products that cater to a wider audience and improve user satisfaction.** \n",
            "\n"
          ]
        }
      ]
    },
    {
      "cell_type": "code",
      "source": [
        "def analyze_reviews(product_reviews, api_key):\n",
        "  genai.configure(api_key=api_key)\n",
        "\n",
        "  model = genai.GenerativeModel(\n",
        "      model_name = \"gemini-1.5-flash\",\n",
        "      generation_config={\n",
        "          \"temperature\": 1,\n",
        "          \"top_p\": 0.95,\n",
        "          \"top_k\": 64,\n",
        "          \"max_output_tokens\": 8192,\n",
        "          \"response_mime_type\": \"text/plain\",\n",
        "      },\n",
        "  )\n",
        "\n",
        "  chat_session = model.start_chat(history=[])\n",
        "  prompt = \"Analyze the negative reviews for product id B09JL41N9C and suggest points for future consumer satisfaction:\\\\n\\\\n\" + \"\\\\n\\\\n\".join(product_reviews)\n",
        "  response = chat_session.send_message(prompt)\n",
        "\n",
        "  return response.text\n",
        "\n",
        "reviews = df['review'].head(100).tolist()\n",
        "api_key = \"your_API_key\"\n",
        "\n",
        "insights = analyze_reviews(reviews,api_key)\n",
        "print(insights)"
      ],
      "metadata": {
        "colab": {
          "base_uri": "https://localhost:8080/",
          "height": 666
        },
        "id": "7KFzHzVa7yLI",
        "outputId": "31186ea9-e9c9-444c-e755-4747124ae4b5"
      },
      "execution_count": null,
      "outputs": [
        {
          "output_type": "stream",
          "name": "stdout",
          "text": [
            "## Analysis of Negative Reviews for 1More ComfoBuds Mini:\n",
            "\n",
            "**Recurring Issues:**\n",
            "\n",
            "* **Quality Control:** Multiple reviews mention earbud failure, with one or both buds experiencing sound reduction, complete loss of sound, high-pitched squealing, buzzing, and static, often within a short period of use. This suggests a serious quality control issue. \n",
            "* **App Issues:** Complaints include lack of a true EQ, limited customization of tap controls, app crashes, and the Sound ID feature being ineffective or disliked by users. This points to a need for improved software functionality and user experience.\n",
            "* **Fit and Comfort:**  While praised for their small size and overall comfort, some users with smaller ears found the earbuds uncomfortable or difficult to fit properly, leading to ear pain or accidental disconnection. This suggests the need for more tip size options or improved tip design.\n",
            "* **Battery Life:** Several reviewers mentioned the battery life being inadequate, especially with ANC enabled, falling short of the claimed 5 hours. This could benefit from improved battery technology or optimization. \n",
            "\n",
            "**Points for Future Consumer Satisfaction:**\n",
            "\n",
            "1. **Address Quality Control:**  \n",
            "    * Implement stricter quality control measures to ensure consistent performance and durability of the earbuds.\n",
            "    * Offer a more straightforward and hassle-free warranty process for defective units.\n",
            "2. **Improve App Functionality:**\n",
            "    * Add a manual EQ for sound customization beyond the Sound ID feature.\n",
            "    * Offer more comprehensive and intuitive touch control options, including single-tap functionality.\n",
            "    * Enhance app stability and address reported crashes.\n",
            "3. **Enhance Fit and Comfort:** \n",
            "    * Introduce a wider range of ear tip sizes or offer a more universal tip design that accommodates a wider range of ear canal shapes.\n",
            "    * Conduct thorough fit testing with diverse ear sizes before releasing new models.\n",
            "4. **Optimize Battery Life:**\n",
            "    * Explore battery technology improvements to achieve longer battery life, especially with ANC enabled.\n",
            "    * Optimize firmware to enhance battery efficiency. \n",
            "5. **Improve Product Documentation:**\n",
            "    * Provide clear and comprehensive user manuals, with accessible font sizes and detailed instructions for all features.\n",
            "    * Consider a more user-friendly app or online resource to guide users through features and troubleshooting.\n",
            "\n",
            "**Other Recommendations:**\n",
            "\n",
            "* **Multipoint Bluetooth:** This highly requested feature would allow seamless switching between devices, enhancing user convenience.\n",
            "* **Volume Control:**  Consider adding volume control to the touch controls, a feature that many users find essential. \n",
            "\n",
            "**Conclusion:**\n",
            "\n",
            "The 1More ComfoBuds Mini have a lot of potential due to their compact size and good features. However, the quality control issues, app limitations, and fit problems prevent the earbuds from reaching their full potential. Addressing these concerns through rigorous improvements can make the ComfoBuds Mini a truly remarkable product, garnering greater user satisfaction and positive reviews. \n",
            "\n"
          ]
        }
      ]
    }
  ]
}